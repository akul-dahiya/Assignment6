{
 "cells": [
  {
   "cell_type": "markdown",
   "id": "ad72b8f2-9a37-42d1-9957-2f75e08c0b4e",
   "metadata": {},
   "source": [
    "Q1. Explain Class and Object with respect to Object-Oriented Programming. Give a suitable example.\n",
    "\n",
    "Ans. Class -- In object-oriented programming class is defined as the blueprint of the real world entity. Class defines the behavior and structure of  objects. It encapsulates data  and functions (methods) that define the characteristics and actions that the objects of the class will have.\n",
    "\n",
    "Object -- An object can be considered a real-life entity having a state and behavior. An object is an instance of a class,and you can create many object of same class.\n",
    "\n",
    "Exmaple is as following:\n",
    "\n"
   ]
  },
  {
   "cell_type": "code",
   "execution_count": 3,
   "id": "5a78280a-a254-4165-b402-8d2164320b3b",
   "metadata": {},
   "outputs": [],
   "source": [
    "class vehicle :\n",
    "    \n",
    "    def __init__(self , name_of_vehicle , speed):\n",
    "        self.name_of_vehicle = name_of_vehicle\n",
    "        self.speed = speed\n",
    "        \n",
    "    def return_vehicle_info(self):\n",
    "        return self.name_of_vehicle , self.speed"
   ]
  },
  {
   "cell_type": "code",
   "execution_count": 5,
   "id": "6eda1477-61d0-4915-9203-2847d665f674",
   "metadata": {},
   "outputs": [],
   "source": [
    "vehicle1 = vehicle(\"car\" , 100)"
   ]
  },
  {
   "cell_type": "code",
   "execution_count": 7,
   "id": "8b81c03d-929c-43b9-85ce-3b1ed3759f35",
   "metadata": {},
   "outputs": [
    {
     "data": {
      "text/plain": [
       "('car', 100)"
      ]
     },
     "execution_count": 7,
     "metadata": {},
     "output_type": "execute_result"
    }
   ],
   "source": [
    "vehicle1.return_vehicle_info()"
   ]
  },
  {
   "cell_type": "markdown",
   "id": "633c1da6-f8b4-40be-b84e-a2e87e36c2c2",
   "metadata": {},
   "source": [
    "In this example vehicle is a class  which is having the blueprint of the object(functions) and vehicle1 is the object we can create many more objects like this"
   ]
  },
  {
   "cell_type": "markdown",
   "id": "9a2a7471-a27e-4d04-8cf6-7f4f352229e0",
   "metadata": {},
   "source": [
    "Q2. Name the four pillars of OOPs.\n",
    "\n",
    "Ans. The four pillars of OOPs is as following:\n",
    "\n",
    "1 Polymorphism : It is defined as the concept where you can use defferent classes with the same interface . Polymorphism allows objects of different classes to be treated as objects of a common superclass. \n",
    "\n",
    "2 Abstraction : Abstraction involves showing only the necessary features of an object while hiding the unnecessary details. It defines the behavior and properties that an object can have without exposing its internal implementation.\n",
    "\n",
    "3 Inheritance :Inheritance is a mechanism by which a new class can inherit properties and behaviors from an existing class. It promotes code reusability and establishes a parent-child relationship between classes.\n",
    "\n",
    "4 Encapsulation: Encapsulation is the concept of bundling data and the methods that operate on the data into a single unit called a class."
   ]
  },
  {
   "cell_type": "markdown",
   "id": "404e477b-b199-47d4-a64e-8838f2e670ac",
   "metadata": {},
   "source": [
    "Q3. Explain why the __init__() function is used. Give a suitable example.\n",
    "\n",
    "Ans. The __init__() function, also known as the constructor, is used to initialize the attributes of an object when it is created. It's automatically called when an object of the class is instantiated. The purpose of the __init__() function is to set up the initial state of the object by assigning values to its attributes.\n",
    "\n",
    "The example is as following"
   ]
  },
  {
   "cell_type": "code",
   "execution_count": 9,
   "id": "9f0faf1d-40a8-40da-a7df-035031d672e7",
   "metadata": {},
   "outputs": [],
   "source": [
    "class vehicle1 :\n",
    "    \n",
    "    def __init__(self , name_of_vehicle , speed):\n",
    "        self.name_of_vehicle = name_of_vehicle\n",
    "        self.speed = speed\n",
    "        \n",
    "    def return_vehicle_info(self):\n",
    "        return self.name_of_vehicle , self.speed"
   ]
  },
  {
   "cell_type": "markdown",
   "id": "6ae065a5-f55f-4650-8b3b-9532f8f88818",
   "metadata": {},
   "source": [
    "In this example __init__ is used to take data for name_of_vehicle and speed"
   ]
  },
  {
   "cell_type": "markdown",
   "id": "b2da113c-7442-49dd-8082-7706ad7a32b8",
   "metadata": {},
   "source": [
    "Q4. Why self is used in OOPs?\n",
    "\n",
    "Ans. self is used to bind the varibles to the class. self is used to call other methods within the same class. This enables the methods to interact with each other and perform various actions based on the state of the object."
   ]
  },
  {
   "cell_type": "markdown",
   "id": "85361d5e-d13f-443c-b575-98c0764a0d89",
   "metadata": {},
   "source": [
    "Q5. What is inheritance? Give an example for each type of inheritance.\n",
    "\n",
    "Ans . Inheritance :Inheritance is a mechanism by which a new class can inherit properties and behaviors from an existing class. It promotes code reusability and establishes a parent-child relationship between classes.\n",
    "\n",
    "There are different types of inheritance:\n",
    "\n",
    "1 Single Inheritance:\n",
    "Single inheritance involves a subclass inheriting from a single superclass. This is the simplest form of inheritance. Each subclass has only one parent class.\n",
    "\n",
    "Example:"
   ]
  },
  {
   "cell_type": "code",
   "execution_count": 10,
   "id": "42860e63-6717-472b-ae20-79929b12150e",
   "metadata": {},
   "outputs": [],
   "source": [
    "class Animal:\n",
    "    def speak(self):\n",
    "        pass\n",
    "\n",
    "class Dog(Animal):\n",
    "    def speak(self):\n",
    "        print(\"Dog barks\")\n"
   ]
  },
  {
   "cell_type": "markdown",
   "id": "659345b1-ca4b-4ef4-806f-afa000ae9091",
   "metadata": {},
   "source": [
    "2 Multiple Inheritance:\n",
    "Multiple inheritance occurs when a subclass inherits from more than one superclass. This allows a class to inherit attributes and methods from multiple parent classes.\n",
    "\n",
    "Example:"
   ]
  },
  {
   "cell_type": "code",
   "execution_count": 12,
   "id": "7744ef14-7d59-469f-ab05-8f599155e41e",
   "metadata": {},
   "outputs": [],
   "source": [
    "class A:\n",
    "    def method_a(self):\n",
    "        print(\"Method A\")\n",
    "\n",
    "class B:\n",
    "    def method_b(self):\n",
    "        print(\"Method B\")\n",
    "\n",
    "class C(A, B):\n",
    "    def method_c(self):\n",
    "        print(\"Method C\")\n"
   ]
  },
  {
   "cell_type": "markdown",
   "id": "550d1a13-0dc8-470a-853b-622d3bd73efc",
   "metadata": {},
   "source": [
    "3 Multilevel Inheritance:\n",
    "In multilevel inheritance, a subclass inherits from a superclass, and then another class inherits from that subclass. This forms a chain of inheritance.\n",
    "\n",
    "Example:"
   ]
  },
  {
   "cell_type": "code",
   "execution_count": 13,
   "id": "a94ce8c7-d174-491a-9454-4f722972021d",
   "metadata": {},
   "outputs": [],
   "source": [
    "class Vehicle:\n",
    "    def start(self):\n",
    "        print(\"Vehicle started\")\n",
    "\n",
    "class Car(Vehicle):\n",
    "    def stop(self):\n",
    "        print(\"Car stopped\")\n",
    "\n",
    "class Sedan(Car):\n",
    "    def accelerate(self):\n",
    "        print(\"Sedan accelerating\")\n"
   ]
  },
  {
   "cell_type": "markdown",
   "id": "0cfa41be-5a36-4ce1-8fbe-0f2077239f7b",
   "metadata": {},
   "source": [
    "4 Hierarchical Inheritance:\n",
    "Hierarchical inheritance involves multiple subclasses inheriting from a single superclass. Each subclass inherits the attributes and methods of the superclass.\n",
    "\n",
    "Example:"
   ]
  },
  {
   "cell_type": "code",
   "execution_count": 14,
   "id": "ab673129-040d-4afc-8d9f-a60135b8ea85",
   "metadata": {},
   "outputs": [],
   "source": [
    "class Shape:\n",
    "    def draw(self):\n",
    "        pass\n",
    "\n",
    "class Circle(Shape):\n",
    "    def draw(self):\n",
    "        print(\"Drawing a circle\")\n",
    "\n",
    "class Square(Shape):\n",
    "    def draw(self):\n",
    "        print(\"Drawing a square\")\n"
   ]
  },
  {
   "cell_type": "markdown",
   "id": "cc371899-10c1-4dd8-9929-0653625a7b9f",
   "metadata": {},
   "source": [
    "5 Hybrid Inheritance:\n",
    "Hybrid inheritance is a combination of two or more types of inheritance. It can involve a mix of single, multiple, multilevel, and hierarchical inheritance.\n",
    "\n",
    "Example:"
   ]
  },
  {
   "cell_type": "code",
   "execution_count": 15,
   "id": "a058d1bc-e448-488a-a81a-3d22c065373c",
   "metadata": {},
   "outputs": [],
   "source": [
    "class Parent:\n",
    "    pass\n",
    "\n",
    "class Child1(Parent):\n",
    "    pass\n",
    "\n",
    "class Child2(Parent):\n",
    "    pass\n",
    "\n",
    "class Grandchild(Child1, Child2):\n",
    "    pass\n"
   ]
  },
  {
   "cell_type": "code",
   "execution_count": null,
   "id": "8f8fb144-941a-4f2d-81d7-27641d0c0978",
   "metadata": {},
   "outputs": [],
   "source": []
  }
 ],
 "metadata": {
  "kernelspec": {
   "display_name": "Python 3 (ipykernel)",
   "language": "python",
   "name": "python3"
  },
  "language_info": {
   "codemirror_mode": {
    "name": "ipython",
    "version": 3
   },
   "file_extension": ".py",
   "mimetype": "text/x-python",
   "name": "python",
   "nbconvert_exporter": "python",
   "pygments_lexer": "ipython3",
   "version": "3.10.8"
  }
 },
 "nbformat": 4,
 "nbformat_minor": 5
}
